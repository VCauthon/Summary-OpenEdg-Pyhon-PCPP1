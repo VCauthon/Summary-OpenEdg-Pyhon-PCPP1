{
 "cells": [
  {
   "cell_type": "markdown",
   "metadata": {},
   "source": [
    "## Introduction to Object-Oriented Programming\n",
    "\n",
    "This module addresses the advanced Object Oriented Programming (OOP) issues that are at the heart of Python programming.\n",
    "\n",
    "All the topics that we will cover in this course are listed below:\n",
    "1. [__Class, Instances, Attributes, Methods - Introduction__](https://github.com/VCauthon/Summary-OpenEdg-Pyhon-PCPP1/blob/main/1.Advanced-OOP/1.OOP-Foundations/1.Class-Attributes/Material.ipynb)\n",
    "2. [__Working with class and instance data - instance variables__](https://github.com/VCauthon/Summary-OpenEdg-Pyhon-PCPP1/blob/main/1.Advanced-OOP/1.OOP-Foundations/2.Working-with-Instances/Material.ipynb)"
   ]
  }
 ],
 "metadata": {
  "language_info": {
   "name": "python"
  },
  "orig_nbformat": 4
 },
 "nbformat": 4,
 "nbformat_minor": 2
}
