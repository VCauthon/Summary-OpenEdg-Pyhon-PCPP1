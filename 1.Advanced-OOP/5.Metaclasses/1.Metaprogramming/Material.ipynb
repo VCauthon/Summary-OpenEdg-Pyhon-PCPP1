{
 "cells": [
  {
   "cell_type": "markdown",
   "metadata": {},
   "source": [
    "# Metaprogramming\n",
    "---\n",
    "[< __GO BACK__](https://github.com/VCauthon/Summary-OpenEdg-Pyhon-PCPP1/blob/main/1.Advanced-OOP/5.Metaclasses/Introduction.ipynb)"
   ]
  },
  {
   "cell_type": "markdown",
   "metadata": {},
   "source": [
    "### Introduction\n",
    "\n",
    "Metaprogramming is a programming technique in which computer programs have __the ability to modify their own or other program's codes__. It may sound like an idea from a science fiction story, but the idea was born and implemented in the early 1960s.\n",
    "\n",
    "For Python, code modifications can occure while the code is being executed, __and you might have already experienced__:\n",
    "- `decorators`\n",
    "- `overriding operators`\n",
    "- `properties`\n",
    "\n",
    "Tim Peters, the Python guru who authored the __Zen of Python__, expressed his feelings about metaclasses in the comp.lang.python newsgroup on 12/22/2002:\n",
    "\n",
    "> __metaclasses__ - are deeper magic than 99% of users should ever worry about. If you wonder whether you need them, you don't (the people who actually need them know with certainty that they need them, and don't need an explanation about why).\n",
    "\n",
    "__Another example of metaprogramming is the metaclass concept__, which is one of the most advanced concepts presented in this course.\n",
    "\n",
    "In Python, __a metaclass is a class whose instances are classes__. Just as an ordinary class defines the behavior of certain objects, a metaclass allows for the customization of class instantiation. __That is to say, we could understand it as the code that is executed, previously, when a class is instantiated__.\n",
    "\n",
    "---"
   ]
  },
  {
   "cell_type": "markdown",
   "metadata": {},
   "source": [
    "### Que diferencía hay entre una metaclass y decorar una clase?\n",
    "\n",
    "The functionality of the metaclass partly coincides with that of class decorators, but metaclasses act in a different way than decorators:\n",
    "\n",
    "- __Decorators__: Bind the names of decorated functions or classes to new callable objects. Class decorators are applied when classes are instantiated.\n",
    "- __Metaclasses__: Redirect class instantiations to dedicated logic, contained in metaclasses. Metaclasses are applied when class definitions are read to create classes, well before classes are instantiated.\n",
    "\n",
    "The typical use cases for metaclasses:\n",
    "\n",
    "- logging;\n",
    "- registering classes at creation time;\n",
    "- interface checking;\n",
    "- automatically adding new methods;\n",
    "- automatically adding new variables.\n"
   ]
  },
  {
   "cell_type": "markdown",
   "metadata": {},
   "source": [
    "---\n",
    "\n",
    "[< __GO BACK__](https://github.com/VCauthon/Summary-OpenEdg-Pyhon-PCPP1/blob/main/1.Advanced-OOP/5.Metaclasses/Introduction.ipynb)"
   ]
  }
 ],
 "metadata": {
  "kernelspec": {
   "display_name": "Python 3",
   "language": "python",
   "name": "python3"
  },
  "language_info": {
   "codemirror_mode": {
    "name": "ipython",
    "version": 3
   },
   "file_extension": ".py",
   "mimetype": "text/x-python",
   "name": "python",
   "nbconvert_exporter": "python",
   "pygments_lexer": "ipython3",
   "version": "3.10.12"
  },
  "orig_nbformat": 4
 },
 "nbformat": 4,
 "nbformat_minor": 2
}
