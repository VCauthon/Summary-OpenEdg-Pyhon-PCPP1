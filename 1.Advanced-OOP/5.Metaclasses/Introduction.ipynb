{
 "cells": [
  {
   "cell_type": "markdown",
   "metadata": {},
   "source": [
    "## Metaprogramming\n",
    "\n",
    "Metaprogramming and metaclasses - introduction; special attributes; type function.\n",
    "\n",
    "All the topics that we will cover in this course are listed below:\n",
    "1. [__Metaprogramming__](https://github.com/VCauthon/Summary-OpenEdg-Pyhon-PCPP1/blob/main/1.Advanced-OOP/5.Metaclasses/1.Metaprogramming/Material.ipynb)\n",
    "\n",
    "---\n",
    "\n",
    "[< __GO BACK__](https://github.com/VCauthon/Summary-OpenEdg-Pyhon-PCPP1/blob/main/1.Advanced-OOP/Introduction.ipynb)"
   ]
  }
 ],
 "metadata": {
  "language_info": {
   "name": "python"
  },
  "orig_nbformat": 4
 },
 "nbformat": 4,
 "nbformat_minor": 2
}
