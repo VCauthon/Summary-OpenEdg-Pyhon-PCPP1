{
 "cells": [
  {
   "cell_type": "markdown",
   "metadata": {},
   "source": [
    "# Advanced techniques of creating and serving exceptions\n",
    "---\n",
    "[< __GO BACK__](https://github.com/VCauthon/Summary-OpenEdg-Pyhon-PCPP1/blob/main/1.Advanced-OOP/3.Advanced-Exceptions/Introduction.ipynb)"
   ]
  },
  {
   "cell_type": "markdown",
   "metadata": {},
   "source": [
    "### Introduction\n",
    "\n",
    "When Python executes a script and encounters a situation that it cannot cope with, it:\n",
    "\n",
    "- Stops your program\n",
    "- Creates a special kind of data, called an exception. Of course, this exception is an object\n",
    "\n",
    "__Both__ of these activities are called __raising an exception__.\n",
    "\n",
    "\n",
    "__¿What happens next?__ The exceptions expects something to take care of it and do something about it.\n",
    "- If there is no such thing, the __program is forcibly terminated__ (and you will see an error message sent to the console).\n",
    "- Otherwise, if the exception is __handled properly__, the program continues its execution.\n",
    "\n",
    "Python categorizes all exceptions into a 63* build-in classes, each of which is responsible for a particular kind of problem. The classes are organized into a hierarchy, which means that some classes are subclasses of others.\n",
    "\n",
    "__*NOTE__: The number of classes may vary depending on the version of Python you are using.\n",
    "\n",
    "The hierarchy is presented in the picture below:\n",
    "\n",
    "![Alt text](image.png)\n",
    "\n",
    "---"
   ]
  },
  {
   "cell_type": "markdown",
   "metadata": {},
   "source": [
    "### Handling in code\n",
    "\n",
    "When you suspect that the code may raise an exception, you should use the `try:` problematic_code `except` code block to surround the \"problematic\" piece of code. In effect, when the exception is raised, execution is not terminated, but the code following the `except` clause will try to handle the problem in an elegant way.\n",
    "\n",
    "An example will be the following:"
   ]
  },
  {
   "cell_type": "code",
   "execution_count": 4,
   "metadata": {},
   "outputs": [
    {
     "name": "stdout",
     "output_type": "stream",
     "text": [
      "An exception occurred:  invalid literal for int() with base 10: 'a'\n"
     ]
    }
   ],
   "source": [
    "try:\n",
    "    print(int(\"a\"))  # An error will be raised here because we are trying to convert a string to a number (which we could actually do via ord but this is not the case).\n",
    "except ValueError as e:\n",
    "    print(\"An exception occurred: \", e)"
   ]
  },
  {
   "cell_type": "markdown",
   "metadata": {},
   "source": [
    "---"
   ]
  },
  {
   "cell_type": "markdown",
   "metadata": {},
   "source": [
    "### What contains the value \"`e`\" declared in `except ValueError as e`?\n",
    "\n",
    "Basically, for this case e is an instance of ValueError with the context, that is, an object with the necessary attributes to indicate why the error originated.\n",
    "\n",
    "The attributes of the object will vary depending on the exception raised, for example, the exception that controls when an error has arisen when importing a module (ImportError) has the following attributes:\n",
    "- `name`: Indicates the module that has been tried to be imported.\n",
    "- `path`: Indicates from where the module has been tried to be imported.\n",
    "\n",
    "Additionally, as python exceptions are a sequence of inheritances it is important to note that there are several attributes that will always have an exception. Like `args` which is a tuple with the arguments that were passed to the exception constructor.\n",
    "\n",
    "Another example, when an error related to the encoding is raised, the `UnicodeError` library comes into action. \n",
    "\n",
    "It has the following attributes:\n",
    "- `encoding`:Tthe name of the encoding that raised the error.\n",
    "- `reason`: String describing the specific codec error.\n",
    "- `object`: The object the codec was attempting to encode or decode.\n",
    "- `start`: The first index of invalid data in the object.\n",
    "- `end`: The index after the last invalid data in the object.\n",
    "---"
   ]
  },
  {
   "cell_type": "markdown",
   "metadata": {},
   "source": [
    "### Introduction into chained exceptions\n",
    "\n",
    "As indicated above, Python exceptions are a series of classes that work by inheriting from each other, so when an exception is raised we may be interested in saving the data of all the parent exceptions raised or not.\n",
    "\n",
    "This is known as follows:\n",
    "- `Implicit chaining`: The detail of the other exceptions is saved.\n",
    "- `Explicit chaining`: The detail of the raised exceptions is unified.\n",
    "\n",
    "This concept introduces two attributes in the created instances of an exception (raise Exception as e).\n",
    "\n",
    "The attributes included are the following:\n",
    "- `__context__`: Contains the implicit chaining.\n",
    "- `__cause__`: Contains explicit chaining.\n",
    "\n",
    "---"
   ]
  },
  {
   "cell_type": "markdown",
   "metadata": {},
   "source": [
    "### Code example of chained exceptions\n",
    "\n",
    "---"
   ]
  },
  {
   "cell_type": "markdown",
   "metadata": {},
   "source": []
  },
  {
   "cell_type": "markdown",
   "metadata": {},
   "source": [
    "---\n",
    "[< __GO BACK__](https://github.com/VCauthon/Summary-OpenEdg-Pyhon-PCPP1/blob/main/1.Advanced-OOP/3.Advanced-Exceptions/Introduction.ipynb)"
   ]
  }
 ],
 "metadata": {
  "kernelspec": {
   "display_name": "Python 3",
   "language": "python",
   "name": "python3"
  },
  "language_info": {
   "codemirror_mode": {
    "name": "ipython",
    "version": 3
   },
   "file_extension": ".py",
   "mimetype": "text/x-python",
   "name": "python",
   "nbconvert_exporter": "python",
   "pygments_lexer": "ipython3",
   "version": "3.10.12"
  },
  "orig_nbformat": 4
 },
 "nbformat": 4,
 "nbformat_minor": 2
}
