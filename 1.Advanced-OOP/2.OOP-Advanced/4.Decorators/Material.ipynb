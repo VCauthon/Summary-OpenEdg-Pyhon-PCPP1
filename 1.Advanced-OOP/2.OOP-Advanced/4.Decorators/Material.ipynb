{
 "cells": [
  {
   "cell_type": "markdown",
   "metadata": {},
   "source": [
    "# Decorators\n",
    "---"
   ]
  },
  {
   "cell_type": "markdown",
   "metadata": {},
   "source": [
    "### Introduction\n",
    "\n",
    "The decorator's operation is based on wrapping the original function with a new \"decorating\" function (or class), hence the name \"decoration\". Of course, the decorating function does more, __because it can take the parameters of the decorated function and perform additional actions__ and that make it a real decorating function.\n",
    "\n",
    "__NOTE__: Note that decorators, in Python, are still closures.\n",
    "\n",
    "A decorator, apart from encapsulating a function, can also receive the arguments of that function and receive other arguments not related to it. The following are some of the possibilities with decorators.\n",
    "\n",
    "Here are some case uses of decorators:\n",
    "- Working with arguments:\n",
    "    - Validation\n",
    "    - Modification before passing to the decorated function\n",
    "    - Return the result arguments parsed\n",
    "- Debugging\n",
    "    - Measurement of execution time.\n",
    "    - Message logging.\n",
    "- Thread synchronization.\n",
    "- DRY (Don't Repeat Yourself) principle.\n",
    "- Caching.\n",
    "\n",
    "---"
   ]
  },
  {
   "cell_type": "markdown",
   "metadata": {},
   "source": [
    "### Decorators: Only wrapping a function\n",
    "\n",
    "This is the simplest example where the decorator encapsulates a function and does not need to send arguments to it (since it does not use them).\n",
    "\n",
    "Here goes a code example:"
   ]
  },
  {
   "cell_type": "code",
   "execution_count": 10,
   "metadata": {},
   "outputs": [
    {
     "name": "stdout",
     "output_type": "stream",
     "text": [
      "The simple_decorator is wrapping simple_function\n",
      "The parameters received are 'Hi' and 'Bye'\n"
     ]
    }
   ],
   "source": [
    "def simple_decorator(func):  # The argument of a decorator it's always the wrapped function\n",
    "    print(f\"The simple_decorator is wrapping {func.__name__}\")\n",
    "    return func  # The last argument of a decorator is called\n",
    "    # ^ It passes all the arguments send by the user even without concreting\n",
    "\n",
    "@simple_decorator  # This can be interpreted as simple_decorator(simple_function())\n",
    "def simple_function(arg1, arg2):  # This function now is received as an argument by the simple_decorator\n",
    "    print(f\"The parameters received are '{arg1}' and '{arg2}'\")\n",
    "\n",
    "simple_function(\"Hi\", \"Bye\")\n"
   ]
  },
  {
   "cell_type": "markdown",
   "metadata": {},
   "source": [
    "---"
   ]
  },
  {
   "cell_type": "markdown",
   "metadata": {},
   "source": [
    "### Decorators: Working with the function arguments\n",
    "\n",
    "One of the examples given above is that the decorator can work with arguments of the function it encapsulates, however, in the above demonstration we do not work with these arguments, so to do so we must use closures to access these arguments.\n",
    "\n",
    "An example in code would be the following:"
   ]
  },
  {
   "cell_type": "code",
   "execution_count": 11,
   "metadata": {},
   "outputs": [
    {
     "name": "stdout",
     "output_type": "stream",
     "text": [
      "The simple_decorator is wrapping simple_function\n",
      "The decorator has access to Hi and Bye\n",
      "Argument that the decorated function doesn't use 'Yoh!'\n",
      "The parameters received are 'Hi' and 'Bye'\n"
     ]
    }
   ],
   "source": [
    "def simple_decorator(func):\n",
    "    def wrapper(*args, **kwargs):  # Now i have access to the arguments sent by the user\n",
    "        print(f\"The simple_decorator is wrapping {func.__name__}\")\n",
    "        print(f\"The decorator has access to {args[0]} and {args[1]}\")  # We are using the *args parameters because in this example we haven't used keywords\n",
    "        print(f\"Argument that the decorated function doesn\\'t use '{kwargs['decorator_argument']}'\")\n",
    "        return func(*args, **kwargs)  # In this section the encapsulated function must be called manually by sending the received arguments\n",
    "    return wrapper  # We return the wrapper itself so that it receives the arguments sent to the function\n",
    "\n",
    "@simple_decorator\n",
    "def simple_function(arg1=\"\", arg2=\"\", **kwargs):\n",
    "    print(f\"The parameters received are '{arg1}' and '{arg2}'\")\n",
    "\n",
    "simple_function(\"Hi\", \"Bye\", decorator_argument=\"Yoh!\")"
   ]
  },
  {
   "cell_type": "markdown",
   "metadata": {},
   "source": [
    "\n",
    "---"
   ]
  },
  {
   "cell_type": "markdown",
   "metadata": {},
   "source": [
    "### Decorator: Receiving it's own arguments\n",
    "\n",
    "The decorator can also receive arguments, which are not related to the function it encapsulates, but are used by the decorator itself. This is done by creating a function that returns the decorator, which in turn encapsulates the function.\n",
    "\n",
    "Let's create an example that validates the datatype of the arguments received by the wrapped function:"
   ]
  },
  {
   "cell_type": "code",
   "execution_count": 20,
   "metadata": {},
   "outputs": [
    {
     "name": "stdout",
     "output_type": "stream",
     "text": [
      "The simple_decorator is wrapping simple_function\n",
      "The decorator has access to Hi and 2\n",
      "\n",
      "The decorator checks that the arguments received have the datatype '<class 'int'>':\n",
      "The argument 'Hi' doesn't have the expected datatype (has <class 'str'>)\n",
      "The argument '2' have the expected datatype\n",
      "\n",
      "Argument that the decorated function doesn't use 'Yoh!'\n",
      "The parameters received are 'Hi' and '2'\n"
     ]
    }
   ],
   "source": [
    "def validate_datatype(validate_datatype):  # This example just adds an initial function that receive the specified decorator argument\n",
    "    def simple_decorator(func):\n",
    "        def wrapper(*args, **kwargs):\n",
    "            print(f\"The simple_decorator is wrapping {func.__name__}\")\n",
    "            print(f\"The decorator has access to {args[0]} and {args[1]}\\n\")\n",
    "            print(f\"The decorator checks that the arguments received have the datatype '{str(validate_datatype)}':\")\n",
    "            for arg in args:\n",
    "                print(f\"The argument '{arg}' \", end=\"\")\n",
    "                if not isinstance(arg, validate_datatype):\n",
    "                    print(f\"doesn't have the expected datatype (has {str(type(arg))})\")\n",
    "                else:\n",
    "                    print(\"have the expected datatype\")\n",
    "            print(f\"\\nArgument that the decorated function doesn\\'t use '{kwargs['decorator_argument']}'\")\n",
    "            return func(*args, **kwargs)\n",
    "        return wrapper\n",
    "    return simple_decorator\n",
    "\n",
    "@validate_datatype(int)  # The argument is passed directly from here\n",
    "def simple_function(arg1=\"\", arg2=\"\", **kwargs):\n",
    "    print(f\"The parameters received are '{arg1}' and '{arg2}'\")\n",
    "\n",
    "simple_function(\"Hi\", 2, decorator_argument=\"Yoh!\")"
   ]
  },
  {
   "cell_type": "markdown",
   "metadata": {},
   "source": [
    "---"
   ]
  },
  {
   "cell_type": "markdown",
   "metadata": {},
   "source": [
    "### Stacking decorators\n",
    "\n",
    "You can accumulate as many decorators as you wish, however, keep in mind that the order in which they are included indicates the order in which they will be executed.\n",
    "\n",
    "The syntax for stacking decorators is as follows:"
   ]
  },
  {
   "cell_type": "code",
   "execution_count": 17,
   "metadata": {},
   "outputs": [
    {
     "name": "stdout",
     "output_type": "stream",
     "text": [
      "Outer time!\n",
      "Inner time!\n",
      "Function time!\n"
     ]
    }
   ],
   "source": [
    "def outer_decorator(func):\n",
    "    def wrapper():\n",
    "        print(\"Outer time!\")\n",
    "        func()\n",
    "    return wrapper\n",
    "\n",
    "\n",
    "def inner_decorator(func):\n",
    "    def wrapper():\n",
    "        print(\"Inner time!\")\n",
    "        func()\n",
    "    return wrapper\n",
    "\n",
    "@outer_decorator\n",
    "@inner_decorator\n",
    "def func():\n",
    "    print(\"Function time!\")\n",
    "\n",
    "\n",
    "func()\n",
    "    "
   ]
  },
  {
   "cell_type": "markdown",
   "metadata": {},
   "source": [
    "Adding the decorators is the same as calling the function like this:\n",
    "\n",
    "```outer_decorator(inner_decorator(func()))```\n",
    "\n",
    "---"
   ]
  }
 ],
 "metadata": {
  "kernelspec": {
   "display_name": "Python 3",
   "language": "python",
   "name": "python3"
  },
  "language_info": {
   "codemirror_mode": {
    "name": "ipython",
    "version": 3
   },
   "file_extension": ".py",
   "mimetype": "text/x-python",
   "name": "python",
   "nbconvert_exporter": "python",
   "pygments_lexer": "ipython3",
   "version": "3.10.12"
  },
  "orig_nbformat": 4
 },
 "nbformat": 4,
 "nbformat_minor": 2
}
