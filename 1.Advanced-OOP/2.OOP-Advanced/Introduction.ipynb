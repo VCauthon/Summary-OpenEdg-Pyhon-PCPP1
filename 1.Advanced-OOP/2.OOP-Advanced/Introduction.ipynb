{
 "cells": [
  {
   "cell_type": "markdown",
   "metadata": {},
   "source": [
    "## Advanced object oriented programming\n",
    "\n",
    "Dive into extended function arguments, decorators, and the multifaceted world of Python methods. Uncover abstract classes, encapsulation, and the choice between composition and inheritance. Discover how Python inherits from built-in classes.\n",
    "\n",
    "All the topics that we will cover in this course are listed below:\n",
    "1. [__Python core syntax__](https://github.com/VCauthon/Summary-OpenEdg-Pyhon-PCPP1/blob/main/1.Advanced-OOP/2.OOP-Advanced/1.Python-core-syntax/Material.ipynb)\n",
    "2. [__Inheritance and polymorphism - Inheritance as a pillar of OOP__](https://github.com/VCauthon/Summary-OpenEdg-Pyhon-PCPP1/blob/main/1.Advanced-OOP/2.OOP-Advanced/2.Inheritance-and-polymorphism/Material.ipynb)\n",
    "3. [__Extended function argument syntax__](https://github.com/VCauthon/Summary-OpenEdg-Pyhon-PCPP1/blob/main/1.Advanced-OOP/2.OOP-Advanced/3.Argument-syntax/Material.ipynb)\n",
    "4. [__Decorators__](https://github.com/VCauthon/Summary-OpenEdg-Pyhon-PCPP1/blob/main/1.Advanced-OOP/2.OOP-Advanced/4.Decorators/Material.ipynb)\n",
    "5. [__Different faces of python methods__](https://github.com/VCauthon/Summary-OpenEdg-Pyhon-PCPP1/blob/main/1.Advanced-OOP/2.OOP-Advanced/5.Methods/Material.ipynb)\n",
    "6. [__Abstract classes__](https://github.com/VCauthon/Summary-OpenEdg-Pyhon-PCPP1/blob/main/1.Advanced-OOP/2.OOP-Advanced/6.Abstract-classes/Material.ipynb)\n",
    "7. [__Encapsulation__](https://github.com/VCauthon/Summary-OpenEdg-Pyhon-PCPP1/blob/main/1.Advanced-OOP/2.OOP-Advanced/7.Encapsulation/Material.ipynb)\n",
    "8. [__Composition vs Inheritance - two ways to the same destination__](https://github.com/VCauthon/Summary-OpenEdg-Pyhon-PCPP1/blob/main/1.Advanced-OOP/2.OOP-Advanced/8.Composition-vs-Inheritance/Material.ipynb)\n",
    "9. [__Inheriting properties from built in classes__](https://github.com/VCauthon/Summary-OpenEdg-Pyhon-PCPP1/blob/main/1.Advanced-OOP/2.OOP-Advanced/9.Inheriting-built-in-classes/Material.ipynb)\n",
    "\n",
    "---\n",
    "\n",
    "[< __GO BACK__](https://github.com/VCauthon/Summary-OpenEdg-Pyhon-PCPP1/blob/main/1.Advanced-OOP/Introduction.ipynb)"
   ]
  }
 ],
 "metadata": {
  "language_info": {
   "name": "python"
  },
  "orig_nbformat": 4
 },
 "nbformat": 4,
 "nbformat_minor": 2
}
