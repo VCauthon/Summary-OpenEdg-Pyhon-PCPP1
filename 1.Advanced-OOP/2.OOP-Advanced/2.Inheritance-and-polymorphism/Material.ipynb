{
 "cells": [
  {
   "cell_type": "markdown",
   "metadata": {},
   "source": [
    "# Inheritance and polymorphism\n",
    "\n",
    "---"
   ]
  },
  {
   "cell_type": "markdown",
   "metadata": {},
   "source": [
    "### Inheritance is a pillar of OOP\n",
    "\n",
    "Any object bound to a specific level of class hierarchy inherits all the traits (methods and attributes) defined inside any of the superclasses.\n",
    "\n",
    "Following this premise we can define the basic hierarchy of:\n",
    "- Superclass: It's the parent class and more generic (abstract).\n",
    "- Subclass: It's the child class and more specialized (specific).\n",
    "\n",
    "__NOTE__: If the subclass have a descendant that means that for that descendant the subclass is a superclass.\n"
   ]
  },
  {
   "cell_type": "markdown",
   "metadata": {},
   "source": [
    "![Alt text](image.png)\n",
    "\n",
    "---"
   ]
  },
  {
   "cell_type": "markdown",
   "metadata": {},
   "source": [
    "### Single inheritance vs. multiple inheritance\n",
    "\n",
    "There are no obstacles to using multiple inheritance in Python. You can derive any new class from __more than one__ previously defined class.\n",
    "\n",
    "But it's not always the best idea to implement a solution with multiple inheritance because:\n",
    "- Multiple inheritance may override methods and attributes (get attributes from parent a anb b and so on).\n",
    "- Using the `super()` function can lead to ambiguity.\n",
    "- High chances to violate the single responsibility principle.\n",
    "- Can create the diamond problem.\n",
    "    - Class D inherits from B and C.\n",
    "    - Class B and C inherits from A."
   ]
  },
  {
   "cell_type": "markdown",
   "metadata": {},
   "source": [
    "![Alt text](image-1.png)\n",
    "\n",
    "__NOTE__: Illustration of the diamond problem above.\n",
    "\n",
    "---"
   ]
  },
  {
   "cell_type": "markdown",
   "metadata": {},
   "source": [
    "### In code, what will occur?\n",
    "\n",
    "If an object created from D calls a method of A, which method will be called: the one coming from class B or the one coming from class C?\n",
    "\n",
    "In the multiple inheritance scenario, any specified attribute is searched for first in the current class. If it is not found, the search continues into the direct parent classes in depth-first level (the first level above), __from the left to the right__, according to the class definition.\n",
    "\n",
    "This is the result of the MRO algorithm.\n",
    "\n",
    "Taking that into account let's say we have the following code __¿Which info method will be called? ¿The one from B or the one from C?__"
   ]
  },
  {
   "cell_type": "code",
   "execution_count": 1,
   "metadata": {},
   "outputs": [
    {
     "name": "stdout",
     "output_type": "stream",
     "text": [
      "Class B\n"
     ]
    }
   ],
   "source": [
    "class A:\n",
    "    def info(self):\n",
    "        print('Class A')\n",
    "\n",
    "class B(A):\n",
    "    def info(self):\n",
    "        print('Class B')\n",
    "\n",
    "class C(A):\n",
    "    def info(self):\n",
    "        print('Class C')\n",
    "\n",
    "class D(B, C):\n",
    "    pass\n",
    "\n",
    "D().info()"
   ]
  },
  {
   "cell_type": "markdown",
   "metadata": {},
   "source": [
    "The answer is __the B one because__ the D class inherits first the B class than the C class (the attribute searching starts from left to right).\n",
    "\n",
    "---"
   ]
  },
  {
   "cell_type": "markdown",
   "metadata": {},
   "source": [
    "### MRO inconsistency\n",
    "\n",
    "We can create an inconsistency if we make that D class inherits the parent class first and then the B or C class.\n",
    "\n",
    "Code example:"
   ]
  },
  {
   "cell_type": "code",
   "execution_count": null,
   "metadata": {},
   "outputs": [],
   "source": [
    "class A:\n",
    "    def info(self):\n",
    "        print('Class A')\n",
    "\n",
    "class B(A):\n",
    "    def info(self):\n",
    "        print('Class B')\n",
    "\n",
    "class C(A):\n",
    "    def info(self):\n",
    "        print('Class C')\n",
    "\n",
    "class D(A, B):\n",
    "    pass\n",
    "\n",
    "D().info()"
   ]
  }
 ],
 "metadata": {
  "kernelspec": {
   "display_name": "Python 3",
   "language": "python",
   "name": "python3"
  },
  "language_info": {
   "codemirror_mode": {
    "name": "ipython",
    "version": 3
   },
   "file_extension": ".py",
   "mimetype": "text/x-python",
   "name": "python",
   "nbconvert_exporter": "python",
   "pygments_lexer": "ipython3",
   "version": "3.10.12"
  },
  "orig_nbformat": 4
 },
 "nbformat": 4,
 "nbformat_minor": 2
}
