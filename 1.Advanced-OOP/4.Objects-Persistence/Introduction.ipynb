{
 "cells": [
  {
   "cell_type": "markdown",
   "metadata": {},
   "source": [
    "## Object persistence\n",
    "\n",
    "Introduction on how to effectively duplicate python objects both in code and in time (persistence) and how to import/export persisted objects.\n",
    "\n",
    "All the topics that we will cover in this course are listed below:\n",
    "1. [__Shallow and deep copy operations__](https://edube.org/learn/python-advanced-1/shallow-and-deep-copy-operations)\n",
    "2. [__Serialization of Python objects using the pickle module__](https://edube.org/learn/python-advanced-1/serialization-of-python-objects-using-the-pickle-module)\n",
    "3. [__Making Python objects persistent using the shelve module__](https://edube.org/learn/python-advanced-1/making-python-objects-persistent-using-the-shelve-module)\n",
    "\n",
    "---\n",
    "\n",
    "[< __GO BACK__](https://github.com/VCauthon/Summary-OpenEdg-Pyhon-PCPP1/blob/main/1.Advanced-OOP/Introduction.ipynb)"
   ]
  }
 ],
 "metadata": {
  "language_info": {
   "name": "python"
  },
  "orig_nbformat": 4
 },
 "nbformat": 4,
 "nbformat_minor": 2
}
