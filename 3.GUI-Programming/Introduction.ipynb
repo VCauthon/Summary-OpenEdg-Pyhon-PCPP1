{
 "cells": [
  {
   "cell_type": "markdown",
   "metadata": {},
   "source": [
    "## An overview of the OpenEdg material can be found in [edube.org](https://edube.org/study/pcpp1-3).\n",
    "\n",
    "All the topics that we will cover in this course are listed below:\n",
    "1. [__TkInter Essentials__]():\n",
    "    + Intro to GUI Programming\n",
    "    + Settling widgets in the window's interior, coloring your widgets, a simple GUI application, events and how to handle them, widget properties, interacting with widget methods, variables\n",
    "2. [__Lexicon of widgets and more TkInter Essentials__]():\n",
    "    + Important widgets\n",
    "    + Shaping the main window and conversing with the user\n",
    "    + Working with canvas\n",
    "\n",
    "## [__Questions to test your skills__](https://quizlet.com/es/847305764/introduction-to-gui-programming-in-python-tkinter-flash-cards/?new)\n",
    "\n",
    "[< __GO BACK__](https://github.com/VCauthon/Summary-OpenEdg-Pyhon-PCPP1/blob/main/README.md)"
   ]
  }
 ],
 "metadata": {
  "language_info": {
   "name": "python"
  },
  "orig_nbformat": 4
 },
 "nbformat": 4,
 "nbformat_minor": 2
}
