{
 "cells": [
  {
   "cell_type": "markdown",
   "metadata": {},
   "source": [
    "# PEP 8 - Coding conventions\n",
    "---"
   ]
  },
  {
   "cell_type": "markdown",
   "metadata": {},
   "source": [
    "### Introduction\n",
    "\n",
    "PEP 8 is considered one of the most important PEPs and a must-read for every professional Python programmer, as it helps to make the code more consistent, more readable, and more efficient.\n",
    "\n",
    "Even though some programming projects may adopt their own style guidelines (in which case such project-specific guidelines may be favored over the conventions provided for by PEP 8, especially in the case of any conflicts, or backwards-compatibility issues), the PEP 8 best practices are still highly recommended reading, as they help you to better understand the philosophy behind Python and become a more aware and proficient programmer.\n",
    "\n",
    "When should you ignore some specific PEP 8 guidelines (or at least consider doing so)?\n",
    "\n",
    "- If following them will mean that you break backwards compatibility.\n",
    "- If following them will have a negative effect on code readability.\n",
    "- If following them will cause inconsistency with the rest of the code. (However, this may be a good opportunity to rewrite the code and make it PEP 8 compliant.)\n",
    "- If there is no good reason for making the code PEP 8 compliant, or the code predates PEP 8.\n",
    "\n",
    "---"
   ]
  },
  {
   "cell_type": "markdown",
   "metadata": {},
   "source": [
    "### PEP 8 compliant checkers\n",
    "\n",
    "There are many useful tools that can help you validate your code style and check it against PEP 8 style conventions.\n",
    "\n",
    "Some of the most popular ones are:\n",
    "\n",
    "- [pycodestyle](https://pypi.org/project/pycodestyle/) (formerly known as pep8)\n",
    "    - You can run it on a file or files to obtain information about non-conformance (and indicate errors in the source code and their frequency).\n",
    "- [autopep8](https://pypi.org/project/autopep8/)\n",
    "    - You can run it on a file or files to automatically fix some of the non-conformance issues (it uses pycodestyle).\n",
    "- pep8online\n",
    "    - You can use it to check your code online.\n",
    "\n",
    "---"
   ]
  },
  {
   "cell_type": "markdown",
   "metadata": {},
   "source": [
    "### Indentation\n",
    "\n",
    "The indentation level, understood as the leading whitespace (i.e., spaces and tabs) at the beginning of each logical line, is used to group statements.\n",
    "\n",
    "When writing code in Python, you should remember to follow these two simple rules:\n",
    "\n",
    "- Use four spaces per indentation level\n",
    "- Use spaces rather than tabs\n",
    "\n",
    "__NOTE__: Mixing tabs and spaces for indentation is not allowed in Python 3 (this will raise a TabError exception).\n"
   ]
  },
  {
   "cell_type": "code",
   "execution_count": 5,
   "metadata": {},
   "outputs": [],
   "source": [
    "### BAD\n",
    "\n",
    "def print_something_1(arg: str):\n",
    "    print(f\"The received parameter is: {arg}\")\n",
    "\n",
    "\n",
    "def print_something_2(arg: str):\n",
    "  print(f\"The received parameter is: {arg}\")\n",
    "#! ^ 2 spaces instead of 4\n"
   ]
  },
  {
   "cell_type": "code",
   "execution_count": 4,
   "metadata": {},
   "outputs": [],
   "source": [
    "### GOOD\n",
    "\n",
    "def print_something_1(arg: str):\n",
    "    print(f\"The received parameter is: {arg}\")\n",
    "\n",
    "\n",
    "def print_something_2(arg: str):\n",
    "    print(f\"The received parameter is: {arg}\")"
   ]
  },
  {
   "cell_type": "markdown",
   "metadata": {},
   "source": [
    "---"
   ]
  },
  {
   "cell_type": "markdown",
   "metadata": {},
   "source": [
    "### Continuation lines\n",
    "\n",
    "Continuation lines (i.e., logical lines of code that you want to split because they’re too long or because you want to improve readability) are allowed if using parentheses/brackets/braces:\n",
    "\n",
    "\n"
   ]
  },
  {
   "cell_type": "code",
   "execution_count": 7,
   "metadata": {},
   "outputs": [
    {
     "name": "stdout",
     "output_type": "stream",
     "text": [
      "The received parameters are:\n",
      "- hi\n",
      "- how\n",
      "- are\n",
      "- you\n",
      "- doing\n",
      "- ?\n"
     ]
    }
   ],
   "source": [
    "### BAD\n",
    "\n",
    "\n",
    "GLOBAL_VARIABLE = [1, 2, 3,\n",
    "    4, 5, 6,\n",
    "    7, 8, 9,\n",
    "    10\n",
    "]\n",
    "\n",
    "\n",
    "def print_something(arg1: str, arg2: str, arg3: str,\n",
    "                    arg4: str, arg5: str, arg6: str):\n",
    "    print(\"The received parameters are:\")\n",
    "    for arg in [arg1, arg2, arg3, arg4, arg5, arg6]:\n",
    "        print(f\"- {arg}\")\n",
    "\n",
    "\n",
    "print_something(\"hi\", \"how\", \"are\", \"you\", \"doing\", \"?\")\n"
   ]
  },
  {
   "cell_type": "code",
   "execution_count": 8,
   "metadata": {},
   "outputs": [
    {
     "name": "stdout",
     "output_type": "stream",
     "text": [
      "The received parameters are:\n",
      "- hi\n",
      "- how\n",
      "- are\n",
      "- you\n",
      "- doing\n",
      "- ?\n"
     ]
    }
   ],
   "source": [
    "### GOOD\n",
    "\n",
    "\n",
    "GLOBAL_VARIABLE = [\n",
    "    1, 2, 3,\n",
    "    4, 5, 6,\n",
    "    7, 8, 9,\n",
    "    10\n",
    "]\n",
    "\n",
    "\n",
    "def print_something(\n",
    "        arg1: str, arg2: str, arg3: str,\n",
    "        arg4: str, arg5: str, arg6: str):\n",
    "    print(\"The received parameters are:\")\n",
    "    for arg in [arg1, arg2, arg3, arg4, arg5, arg6]:\n",
    "        print(f\"- {arg}\")\n",
    "\n",
    "\n",
    "print_something(\n",
    "    \"hi\", \"how\", \"are\",\n",
    "    \"you\", \"doing\", \"?\")\n"
   ]
  },
  {
   "cell_type": "markdown",
   "metadata": {},
   "source": [
    "---"
   ]
  },
  {
   "cell_type": "markdown",
   "metadata": {},
   "source": [
    "### Maximum Line Length and Line Breaks\n",
    "\n",
    "If possible, you should __limit all lines to a maximum of 79 characters__ as this will help you avoid wrapping several lines of code. If line wrapping is inevitable, use Python’s implied line continuation from the previous page.\n",
    "\n",
    "__NOTE__: In case of __docstrings and comments__, the limit is __72 characters__.\n",
    "\n",
    "---"
   ]
  },
  {
   "cell_type": "markdown",
   "metadata": {},
   "source": [
    "### Line breaks and operators\n",
    "\n",
    "It is recommended that you follow Donald Knuth’s style suggestions and __break before binary operators__ as this results in a more readable, eye-friendly code.\n",
    "\n"
   ]
  },
  {
   "cell_type": "code",
   "execution_count": 9,
   "metadata": {},
   "outputs": [],
   "source": [
    "# BAD\n",
    "\n",
    "total_values = (1 +\n",
    "                2 +\n",
    "                3 +\n",
    "                4 +\n",
    "                5 - (1 + 4))"
   ]
  },
  {
   "cell_type": "code",
   "execution_count": 10,
   "metadata": {},
   "outputs": [],
   "source": [
    "# GOOD\n",
    "\n",
    "total_values = (1\n",
    "                + 2\n",
    "                + 3\n",
    "                + 4\n",
    "                + 5\n",
    "                - (1 + 4))"
   ]
  },
  {
   "cell_type": "markdown",
   "metadata": {},
   "source": [
    "---"
   ]
  },
  {
   "cell_type": "markdown",
   "metadata": {},
   "source": []
  }
 ],
 "metadata": {
  "kernelspec": {
   "display_name": "Python 3",
   "language": "python",
   "name": "python3"
  },
  "language_info": {
   "codemirror_mode": {
    "name": "ipython",
    "version": 3
   },
   "file_extension": ".py",
   "mimetype": "text/x-python",
   "name": "python",
   "nbconvert_exporter": "python",
   "pygments_lexer": "ipython3",
   "version": "3.10.12"
  },
  "orig_nbformat": 4
 },
 "nbformat": 4,
 "nbformat_minor": 2
}
