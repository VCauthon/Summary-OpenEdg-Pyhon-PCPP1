{
 "cells": [
  {
   "cell_type": "markdown",
   "metadata": {},
   "source": [
    "# PEP 8 - Coding conventions\n",
    "---"
   ]
  },
  {
   "cell_type": "markdown",
   "metadata": {},
   "source": [
    "### Introduction\n",
    "\n",
    "PEP 8 is considered one of the most important PEPs and a must-read for every professional Python programmer, as it helps to make the code more consistent, more readable, and more efficient.\n",
    "\n",
    "Even though some programming projects may adopt their own style guidelines (in which case such project-specific guidelines may be favored over the conventions provided for by PEP 8, especially in the case of any conflicts, or backwards-compatibility issues), the PEP 8 best practices are still highly recommended reading, as they help you to better understand the philosophy behind Python and become a more aware and proficient programmer.\n",
    "\n",
    "When should you ignore some specific PEP 8 guidelines (or at least consider doing so)?\n",
    "\n",
    "- If following them will mean that you break backwards compatibility.\n",
    "- If following them will have a negative effect on code readability.\n",
    "- If following them will cause inconsistency with the rest of the code. (However, this may be a good opportunity to rewrite the code and make it PEP 8 compliant.)\n",
    "- If there is no good reason for making the code PEP 8 compliant, or the code predates PEP 8.\n",
    "\n",
    "---"
   ]
  },
  {
   "cell_type": "markdown",
   "metadata": {},
   "source": [
    "### PEP 8 compliant checkers\n",
    "\n",
    "There are many useful tools that can help you validate your code style and check it against PEP 8 style conventions.\n",
    "\n",
    "Some of the most popular ones are:\n",
    "\n",
    "- [pycodestyle](https://pypi.org/project/pycodestyle/) (formerly known as pep8)\n",
    "    - You can run it on a file or files to obtain information about non-conformance (and indicate errors in the source code and their frequency).\n",
    "- [autopep8](https://pypi.org/project/autopep8/)\n",
    "    - You can run it on a file or files to automatically fix some of the non-conformance issues (it uses pycodestyle).\n",
    "- pep8online\n",
    "    - You can use it to check your code online."
   ]
  }
 ],
 "metadata": {
  "kernelspec": {
   "display_name": "Python 3",
   "language": "python",
   "name": "python3"
  },
  "language_info": {
   "codemirror_mode": {
    "name": "ipython",
    "version": 3
   },
   "file_extension": ".py",
   "mimetype": "text/x-python",
   "name": "python",
   "nbconvert_exporter": "python",
   "pygments_lexer": "ipython3",
   "version": "3.10.12"
  },
  "orig_nbformat": 4
 },
 "nbformat": 4,
 "nbformat_minor": 2
}
